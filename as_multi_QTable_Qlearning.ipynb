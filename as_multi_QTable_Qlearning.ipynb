{
  "cells": [
    {
      "cell_type": "code",
      "source": [
        "from google.colab import drive\n",
        "drive.mount('/content/drive', force_remount=True)\n",
        "\n",
        "# __file__ = '/content/drive/MyDrive/aiffelthon/data'\n",
        " __file__ = '/content/drive/MyDrive/git_path_finding/path-finding-rl/data'"
      ],
      "metadata": {
        "colab": {
          "base_uri": "https://localhost:8080/"
        },
        "id": "0-B1raELdgTz",
        "outputId": "049432c5-c3fd-452c-d885-70e8b1ce7617"
      },
      "id": "0-B1raELdgTz",
      "execution_count": 2,
      "outputs": [
        {
          "output_type": "stream",
          "name": "stdout",
          "text": [
            "Mounted at /content/drive\n"
          ]
        }
      ]
    },
    {
      "cell_type": "code",
      "source": [
        "from google.colab import drive\n",
        "drive.mount('/content/drive')"
      ],
      "metadata": {
        "colab": {
          "base_uri": "https://localhost:8080/"
        },
        "id": "Eo1G1ZO3WGhf",
        "outputId": "1e0f012d-0681-42eb-9607-e5e4136beeee"
      },
      "id": "Eo1G1ZO3WGhf",
      "execution_count": 1,
      "outputs": [
        {
          "output_type": "stream",
          "name": "stdout",
          "text": [
            "Mounted at /content/drive\n"
          ]
        }
      ]
    },
    {
      "cell_type": "markdown",
      "id": "154f8442",
      "metadata": {
        "id": "154f8442"
      },
      "source": [
        "## Environment"
      ]
    },
    {
      "cell_type": "code",
      "execution_count": 76,
      "id": "e672c2e2",
      "metadata": {
        "id": "e672c2e2"
      },
      "outputs": [],
      "source": [
        "from string import ascii_uppercase\n",
        "#from draw_utils import *\n",
        "#from pyglet.gl import *\n",
        "import numpy as np\n",
        "import pandas as pd\n",
        "import os\n",
        "import random\n",
        "from datetime import datetime\n",
        "import pytz\n",
        "import matplotlib.pyplot as plt\n",
        "\n",
        "#__file__ = '/home/ogangza/heung_path_finding/path-finding-rl/data' ## GCP용\n",
        "local_path = os.path.abspath(os.path.join(os.path.dirname(__file__)))\n",
        "\n",
        "class Simulator:\n",
        "    def __init__(self):\n",
        "        # 데이터 로드, 그리드월드 크기 지정\n",
        "        self.files = pd.read_csv(os.path.join(local_path, \"data/factory_order_train.csv\"))\n",
        "        self.height = 10 # 그리드 높이\n",
        "        self.width = 9 # 그리드 너비\n",
        "        self.inds = list(ascii_uppercase)[:17] #inds : A ~ Q alphabet list\n",
        "        self.x = None\n",
        "        self.y = None\n",
        "\n",
        "    def set_box(self): # env.target에 이번에 방문해야 할 좌표 저장\n",
        "        box_data = pd.read_csv(os.path.join(local_path, \"./data/box.csv\"))\n",
        "        order_item = list(set(self.inds) & set(self.items))  # 에피소드에 해당하는 items는 reset 메서드에서 결정\n",
        "        order_csv = box_data[box_data['item'].isin(order_item)]\n",
        "        for order_box in order_csv.itertuples(index = True, name ='Pandas'):\n",
        "            self.target.append([getattr(order_box, \"row\"), getattr(order_box, \"col\")] )\n",
        "        ###############################################################\n",
        "        self.target.append([9,4]) # 최종 목적지 (출발점) 추가\n",
        "        ###############################################################\n",
        "        \n",
        "    def reset(self, epi): #  첫 스텝에서 사용. start point에 있게 한다.\n",
        "        # initial episode parameter setting\n",
        "        self.epi = epi\n",
        "        self.target = []\n",
        "        self.items = list(self.files.iloc[self.epi])[0]  # 해당 에피소드의 items를 가져 옴. 예, [ 'H', 'L', 'M']\n",
        "        self.set_box()  # 에이전트가 이번에 방문해야 할 좌표들 저장. 예, [ [0,3], [0,7], [0,8], [9,4] ]\n",
        "        # → 결과 self.target에 들어 옴\n",
        "        (self.end_x, self.end_y) = self.target[0] # 에피소드의 출발점 <- 이 아니라서 수렴이 안된 것입니다\n",
        "        (self.x, self.y) = (9, 4)\n",
        "        return (self.x, self.y), (self.end_x, self.end_y) \n",
        "\n",
        "    def step(self, action):\n",
        "        cur_x, cur_y = self.x, self.y\n",
        "        if action == 0:     # up\n",
        "            self.move_up()\n",
        "        elif action == 1:   # down\n",
        "            self.move_down()\n",
        "        elif action == 2:   # left\n",
        "            self.move_left()\n",
        "        elif action == 3:   # right\n",
        "            self.move_right()\n",
        "        new_x, new_y = self.x, self.y\n",
        "\n",
        "        if (cur_x, cur_y) == (new_x, new_y):\n",
        "            reward = -10\n",
        "        else:\n",
        "            reward = -1\n",
        "        done = self.is_done()\n",
        "        if done:\n",
        "            reward = 1000\n",
        "        return (self.x, self.y), reward, done\n",
        "\n",
        "    def move_up(self):  # action == 0:\n",
        "        if self.x == 0:\n",
        "            pass\n",
        "        elif self.x == 6 and self.y in [0,8]:\n",
        "            pass\n",
        "        elif self.x == 7 and self.y in [2,4,6]:\n",
        "            pass\n",
        "        else:\n",
        "            self.x -= 1\n",
        "\n",
        "    def move_down(self): # action == 1:\n",
        "        if self.x == 9:\n",
        "            pass\n",
        "        elif self.x == 8 and self.y in [0,1,2,3,5,6,7,8]:\n",
        "            pass\n",
        "        elif self.x == 2 and self.y in [2,4,6]:\n",
        "            pass\n",
        "        elif self.x in [1,2,3,4,5] and self.y in [0,8]:\n",
        "            pass\n",
        "        else:\n",
        "            self.x += 1\n",
        "        \n",
        "    def move_left(self): # left elif action == 2:\n",
        "        if self.y == 0:\n",
        "            pass\n",
        "        elif self.y == 1 and self.x in [2,3,4,5]:\n",
        "            pass\n",
        "        elif self.y in [3,5,7] and self.x in [3,4,5,6]:\n",
        "            pass\n",
        "        elif self.y in [1,2,3,4,5,6,7,8] and self.x == 9:\n",
        "            pass\n",
        "        else:\n",
        "            self.y -= 1\n",
        "\n",
        "    def move_right(self): # right else: action == 3:\n",
        "        if self.y == 8:\n",
        "            pass\n",
        "        elif self.y == 7 and self.x in [2,3,4,5]:\n",
        "            pass\n",
        "        elif self.y in [1,3,5] and self.x in [3,4,5,6]:\n",
        "            pass\n",
        "        elif self.y in [0,1,2,3,4,5,6,7] and self.x == 9:\n",
        "            pass\n",
        "        else:\n",
        "            self.y += 1\n",
        "\n",
        "    def is_done(self):\n",
        "        if self.x == self.end_x and self.y == self.end_y:\n",
        "            return True\n",
        "        else:\n",
        "            return False"
      ]
    },
    {
      "cell_type": "markdown",
      "id": "32f6115a",
      "metadata": {
        "id": "32f6115a"
      },
      "source": [
        "## Agent"
      ]
    },
    {
      "cell_type": "code",
      "execution_count": 82,
      "id": "a97ebaaf",
      "metadata": {
        "id": "a97ebaaf"
      },
      "outputs": [],
      "source": [
        "class QAgent():\n",
        "    def __init__(self):\n",
        "        self.height = env.height # 그리드 높이\n",
        "        self.width = env.width # 그리드 너비\n",
        "        self.q_table = np.zeros((self.height, self.width, 4)) # 마찬가지로 Q 테이블을 0으로 초기화\n",
        "        self.eps = 0.5\n",
        "        self.alpha = 1\n",
        "\n",
        "    def select_action(self, s):  # eps-greedy로 액션을 선택해준다\n",
        "        x, y = s\n",
        "        coin = random.random()\n",
        "        if coin < self.eps:\n",
        "            action = random.randint(0,3)\n",
        "        else:\n",
        "            action_val = self.q_table[x,y,:]\n",
        "            action = np.argmax(action_val)\n",
        "        return action\n",
        "\n",
        "    def update_table(self, transition):\n",
        "        s, a, r, s_prime = transition\n",
        "        x,y = s\n",
        "        next_x, next_y = s_prime\n",
        "        # Q러닝 업데이트 식을 이용 \n",
        "        self.q_table[x,y,a] = self.q_table[x,y,a] + self.alpha * (r + np.amax(self.q_table[next_x,next_y,:]) - self.q_table[x,y,a])\n",
        "\n",
        "    def anneal_eps(self):\n",
        "        self.eps -= 0.01  # Q러닝에선 epsilon 이 좀더 천천히 줄어 들도록 함.\n",
        "        self.eps = max(self.eps, 0.2) \n",
        "\n",
        "    def show_table(self):\n",
        "        q_lst = self.q_table.tolist()\n",
        "        data = np.zeros((self.height, self.width))\n",
        "        for row_idx in range(len(q_lst)):\n",
        "            row = q_lst[row_idx]\n",
        "            for col_idx in range(len(row)):\n",
        "                col = row[col_idx]\n",
        "                action = np.argmax(col)\n",
        "                data[row_idx, col_idx] = action\n",
        "        print(data)\n",
        "        #상, 하, 좌, 우 = 0, 1, 2, 3\n",
        "        data_direction = np.where(data == 2., '←', data)\n",
        "        data_direction = np.where(data == 0., '↑', data_direction)\n",
        "        data_direction = np.where(data == 3., '→', data_direction)\n",
        "        data_direction = np.where(data == 1., '↓', data_direction)\n",
        "        data_direction[9,4] = 'S'\n",
        "        data_direction[9,4] = 'G'\n",
        "        # 맨 아래 줄\n",
        "        for i in range(4):\n",
        "            data_direction[9,i] = '■'\n",
        "        for i in range(5,9):\n",
        "            data_direction[9,i] = '■'\n",
        "        # 맨 윗 줄\n",
        "        upper_line = 'ⓔⓕⓖⓗⓘⓙⓚⓛⓜ'\n",
        "        for i in range(9):\n",
        "            data_direction[0,i] = upper_line[i]\n",
        "        # 왼쪽, 오른쪽 줄\n",
        "        left_line = 'ⓓⓒⓑⓐ'\n",
        "        right_line = 'ⓝⓞⓟⓠ'\n",
        "        for i in range(2,6):\n",
        "            data_direction[i,0] = left_line[i-2]\n",
        "            data_direction[i,8] = right_line[i-2]\n",
        "        # 중간 장애물\n",
        "        for i in range(3,7):\n",
        "            data_direction[i,2] = '■'\n",
        "            data_direction[i,4] = '■'\n",
        "            data_direction[i,6] = '■'\n",
        "        print(data_direction)"
      ]
    },
    {
      "cell_type": "code",
      "source": [
        "# 최적 경로 받는 함수\n",
        "def optimal_path(start, end):\n",
        "    x, y = start\n",
        "    end_x, end_y = end\n",
        "    local_optimal_path = [[x,y]]  # 최적 경로 시작점 지정\n",
        "    print('start:', start, end=\" \")\n",
        "    while [x, y] != [end_x, end_y]:\n",
        "        # select action\n",
        "        action_val = agent.q_table[x,y,:]\n",
        "        action = np.argmax(action_val)\n",
        "        # step action\n",
        "        if action == 0:\n",
        "            x -= 1\n",
        "        elif action == 1:\n",
        "            x += 1\n",
        "        elif action == 2:\n",
        "            y -= 1\n",
        "        elif action == 3:\n",
        "            y =+ 1\n",
        "        local_optimal_path.append([x,y])\n",
        "        print('→', x,y, end=' ')\n",
        "    return local_optimal_path"
      ],
      "metadata": {
        "id": "5vkFI164TBQC"
      },
      "id": "5vkFI164TBQC",
      "execution_count": 16,
      "outputs": []
    },
    {
      "cell_type": "markdown",
      "id": "5e284183",
      "metadata": {
        "id": "5e284183"
      },
      "source": [
        "### Qlearning Main"
      ]
    },
    {
      "cell_type": "code",
      "execution_count": 90,
      "id": "4ce9be70",
      "metadata": {
        "scrolled": true,
        "colab": {
          "base_uri": "https://localhost:8080/"
        },
        "id": "4ce9be70",
        "outputId": "bee208fe-ac9c-4331-fa6b-327fb0baf6d1"
      },
      "outputs": [
        {
          "output_type": "stream",
          "name": "stdout",
          "text": [
            "list(env.files.iloc[0])[0]: ['H', 'L', 'M']\n",
            "[[0, 3], [0, 7], [0, 8], [9, 4]]\n",
            "(9, 4) (0, 3)\n",
            "[[3. 3. 3. 0. 2. 2. 2. 2. 2.]\n",
            " [0. 3. 0. 0. 0. 0. 1. 2. 0.]\n",
            " [0. 0. 2. 3. 0. 0. 2. 2. 0.]\n",
            " [0. 0. 0. 0. 0. 0. 0. 0. 0.]\n",
            " [0. 0. 0. 0. 0. 0. 0. 0. 0.]\n",
            " [0. 0. 0. 0. 0. 0. 0. 0. 0.]\n",
            " [3. 0. 0. 1. 0. 0. 0. 0. 1.]\n",
            " [0. 0. 2. 3. 3. 0. 2. 2. 2.]\n",
            " [0. 3. 0. 3. 0. 2. 2. 0. 2.]\n",
            " [0. 0. 0. 0. 0. 0. 0. 0. 0.]]\n",
            "[['ⓔ' 'ⓕ' 'ⓖ' 'ⓗ' 'ⓘ' 'ⓙ' 'ⓚ' 'ⓛ' 'ⓜ']\n",
            " ['↑' '→' '↑' '↑' '↑' '↑' '↓' '←' '↑']\n",
            " ['ⓓ' '↑' '←' '→' '↑' '↑' '←' '←' 'ⓝ']\n",
            " ['ⓒ' '↑' '■' '↑' '■' '↑' '■' '↑' 'ⓞ']\n",
            " ['ⓑ' '↑' '■' '↑' '■' '↑' '■' '↑' 'ⓟ']\n",
            " ['ⓐ' '↑' '■' '↑' '■' '↑' '■' '↑' 'ⓠ']\n",
            " ['→' '↑' '■' '↓' '■' '↑' '■' '↑' '↓']\n",
            " ['↑' '↑' '←' '→' '→' '↑' '←' '←' '←']\n",
            " ['↑' '→' '↑' '→' '↑' '←' '←' '↑' '←']\n",
            " ['■' '■' '■' '■' 'G' '■' '■' '■' '■']]\n",
            "(9, 4) (0, 3)\n",
            "(0, 3) [0, 7]\n",
            "[[3. 3. 1. 3. 3. 3. 3. 3. 2.]\n",
            " [3. 3. 3. 0. 0. 0. 3. 0. 2.]\n",
            " [0. 0. 0. 0. 0. 2. 2. 0. 0.]\n",
            " [0. 0. 0. 0. 0. 0. 0. 0. 0.]\n",
            " [0. 0. 0. 1. 0. 0. 0. 0. 0.]\n",
            " [0. 1. 0. 0. 0. 0. 0. 0. 0.]\n",
            " [3. 1. 0. 0. 0. 0. 0. 0. 0.]\n",
            " [0. 1. 2. 2. 2. 3. 3. 0. 0.]\n",
            " [2. 2. 0. 3. 0. 2. 0. 0. 0.]\n",
            " [0. 0. 0. 0. 1. 0. 0. 0. 0.]]\n",
            "[['ⓔ' 'ⓕ' 'ⓖ' 'ⓗ' 'ⓘ' 'ⓙ' 'ⓚ' 'ⓛ' 'ⓜ']\n",
            " ['→' '→' '→' '↑' '↑' '↑' '→' '↑' '←']\n",
            " ['ⓓ' '↑' '↑' '↑' '↑' '←' '←' '↑' 'ⓝ']\n",
            " ['ⓒ' '↑' '■' '↑' '■' '↑' '■' '↑' 'ⓞ']\n",
            " ['ⓑ' '↑' '■' '↓' '■' '↑' '■' '↑' 'ⓟ']\n",
            " ['ⓐ' '↓' '■' '↑' '■' '↑' '■' '↑' 'ⓠ']\n",
            " ['→' '↓' '■' '↑' '■' '↑' '■' '↑' '↑']\n",
            " ['↑' '↓' '←' '←' '←' '→' '→' '↑' '↑']\n",
            " ['←' '←' '↑' '→' '↑' '←' '↑' '↑' '↑']\n",
            " ['■' '■' '■' '■' 'G' '■' '■' '■' '■']]\n",
            "(0, 3) [0, 7]\n",
            "[0, 7] [0, 8]\n",
            "[[3. 1. 2. 1. 3. 3. 3. 3. 0.]\n",
            " [0. 0. 0. 1. 1. 3. 0. 0. 0.]\n",
            " [0. 0. 2. 1. 2. 3. 3. 0. 0.]\n",
            " [0. 1. 0. 1. 0. 1. 0. 1. 0.]\n",
            " [0. 1. 0. 0. 0. 1. 0. 0. 0.]\n",
            " [0. 0. 0. 0. 0. 0. 0. 0. 0.]\n",
            " [0. 0. 0. 0. 0. 0. 0. 0. 0.]\n",
            " [0. 0. 0. 0. 0. 0. 0. 0. 0.]\n",
            " [0. 0. 0. 0. 0. 0. 0. 0. 0.]\n",
            " [0. 0. 0. 0. 0. 0. 0. 0. 0.]]\n",
            "[['ⓔ' 'ⓕ' 'ⓖ' 'ⓗ' 'ⓘ' 'ⓙ' 'ⓚ' 'ⓛ' 'ⓜ']\n",
            " ['↑' '↑' '↑' '↓' '↓' '→' '↑' '↑' '↑']\n",
            " ['ⓓ' '↑' '←' '↓' '←' '→' '→' '↑' 'ⓝ']\n",
            " ['ⓒ' '↓' '■' '↓' '■' '↓' '■' '↓' 'ⓞ']\n",
            " ['ⓑ' '↓' '■' '↑' '■' '↓' '■' '↑' 'ⓟ']\n",
            " ['ⓐ' '↑' '■' '↑' '■' '↑' '■' '↑' 'ⓠ']\n",
            " ['↑' '↑' '■' '↑' '■' '↑' '■' '↑' '↑']\n",
            " ['↑' '↑' '↑' '↑' '↑' '↑' '↑' '↑' '↑']\n",
            " ['↑' '↑' '↑' '↑' '↑' '↑' '↑' '↑' '↑']\n",
            " ['■' '■' '■' '■' 'G' '■' '■' '■' '■']]\n",
            "[0, 7] [0, 8]\n",
            "[0, 8] [9, 4]\n",
            "[[1. 1. 1. 1. 1. 3. 1. 1. 1.]\n",
            " [0. 0. 1. 1. 3. 1. 1. 1. 2.]\n",
            " [0. 0. 3. 3. 3. 1. 2. 2. 0.]\n",
            " [0. 1. 0. 1. 0. 1. 0. 0. 0.]\n",
            " [0. 1. 0. 1. 0. 1. 0. 0. 0.]\n",
            " [0. 1. 0. 1. 0. 1. 0. 1. 0.]\n",
            " [1. 1. 0. 1. 0. 1. 0. 1. 2.]\n",
            " [1. 3. 3. 1. 3. 1. 2. 2. 0.]\n",
            " [0. 0. 3. 3. 1. 2. 0. 2. 2.]\n",
            " [0. 0. 0. 0. 1. 0. 0. 0. 0.]]\n",
            "[['ⓔ' 'ⓕ' 'ⓖ' 'ⓗ' 'ⓘ' 'ⓙ' 'ⓚ' 'ⓛ' 'ⓜ']\n",
            " ['↑' '↑' '↓' '↓' '→' '↓' '↓' '↓' '←']\n",
            " ['ⓓ' '↑' '→' '→' '→' '↓' '←' '←' 'ⓝ']\n",
            " ['ⓒ' '↓' '■' '↓' '■' '↓' '■' '↑' 'ⓞ']\n",
            " ['ⓑ' '↓' '■' '↓' '■' '↓' '■' '↑' 'ⓟ']\n",
            " ['ⓐ' '↓' '■' '↓' '■' '↓' '■' '↓' 'ⓠ']\n",
            " ['↓' '↓' '■' '↓' '■' '↓' '■' '↓' '←']\n",
            " ['↓' '→' '→' '↓' '→' '↓' '←' '←' '↑']\n",
            " ['↑' '↑' '→' '→' '↓' '←' '↑' '←' '←']\n",
            " ['■' '■' '■' '■' 'G' '■' '■' '■' '■']]\n",
            "[0, 8] [9, 4]\n"
          ]
        }
      ],
      "source": [
        "tz = pytz.timezone('Asia/Seoul')\n",
        "env = Simulator()\n",
        "agent = QAgent()\n",
        "\n",
        "# 최초의 start, end point 결정은 env.reset(epi)\n",
        "epi = 0\n",
        "start, end = env.reset(epi)\n",
        "print('list(env.files.iloc[0])[0]:', list(env.files.iloc[0])[0])\n",
        "print(env.target)\n",
        "print(start, end)\n",
        "agent.q_table = np.zeros((env.height, env.width, 4))\n",
        "\n",
        "cum_reward = 0\n",
        "optimal_paths = []\n",
        "for idx, tg in enumerate(env.target):\n",
        "    cum_reward = 0\n",
        "    for iter in range(5000): \n",
        "        env.x, env.y = start\n",
        "        env.end_x, env.end_y = end\n",
        "        done = False\n",
        "        while not done:  \n",
        "            a = agent.select_action(s) # e-greedy로 액션 선택\n",
        "            s_prime, r, done = env.step(a)  \n",
        "            # print(s,r)\n",
        "            agent.update_table((s, a, r, s_prime))\n",
        "            s = s_prime\n",
        "            cum_reward += r\n",
        "        agent.anneal_eps()  # epsilon 조정 후 최적해 찾기 반복\n",
        "        # print(cum_reward)\n",
        "        cum_reward = 0\n",
        "\n",
        "    agent.show_table()\n",
        "    agent.q_table = np.zeros((env.height, env.width, 4))\n",
        "    print(start,end)\n",
        "    # optimal_paths += optimal_path(start, end) <- optimal_path가 잘 작동하지 않습니다.\n",
        "    start = end\n",
        "    try:\n",
        "        end = env.target[idx+1]\n",
        "        print(start, end)\n",
        "        env.x, env.y = start\n",
        "        env.end_x, env.end_y = end\n",
        "    except:\n",
        "        pass"
      ]
    },
    {
      "cell_type": "markdown",
      "source": [
        "탐색이 부족해 완벽하진 않지만, 얼추 수렴하는 것 확인했어요\n",
        "\n",
        "코드가 이쁘게 짜여있지않은데, 좀 손봐서 시작위치, 끝위치 잘 나오게 하시면 될꺼같습니다.\n",
        "\n",
        "이상하게 optimal_path가 위에 정책따라서 움직이지않고 이상하게 움직입니다. \n",
        "\n",
        "저기 손 본 다음에 리스트에 더해주는 방식으로 최적루트 리스트를 얻을 수 있을 것 같습니다. (주석처리해놓음)"
      ],
      "metadata": {
        "id": "zYeKSs_G9XHj"
      },
      "id": "zYeKSs_G9XHj"
    },
    {
      "cell_type": "code",
      "source": [
        "optimal_path(start, end)"
      ],
      "metadata": {
        "id": "8jVS9wPMHuwe",
        "colab": {
          "base_uri": "https://localhost:8080/"
        },
        "outputId": "2a7d102a-5d24-4440-81bb-c2b67d22b542"
      },
      "id": "8jVS9wPMHuwe",
      "execution_count": 91,
      "outputs": [
        {
          "output_type": "stream",
          "name": "stdout",
          "text": [
            "start: [9, 4] "
          ]
        },
        {
          "output_type": "execute_result",
          "data": {
            "text/plain": [
              "[[9, 4]]"
            ]
          },
          "metadata": {},
          "execution_count": 91
        }
      ]
    },
    {
      "cell_type": "markdown",
      "source": [
        "### Grid World\n",
        "\n",
        "![image.png](data:image/png;base64,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)"
      ],
      "metadata": {
        "id": "CCCbwkMclcl6"
      },
      "id": "CCCbwkMclcl6"
    },
    {
      "cell_type": "code",
      "source": [
        ""
      ],
      "metadata": {
        "id": "UyWEnxIZq8tb"
      },
      "id": "UyWEnxIZq8tb",
      "execution_count": null,
      "outputs": []
    }
  ],
  "metadata": {
    "kernelspec": {
      "display_name": "Python 3",
      "language": "python",
      "name": "python3"
    },
    "language_info": {
      "codemirror_mode": {
        "name": "ipython",
        "version": 3
      },
      "file_extension": ".py",
      "mimetype": "text/x-python",
      "name": "python",
      "nbconvert_exporter": "python",
      "pygments_lexer": "ipython3",
      "version": "3.8.8"
    },
    "colab": {
      "name": "as_multi_QTable_Qlearning.ipynb",
      "provenance": [],
      "collapsed_sections": []
    }
  },
  "nbformat": 4,
  "nbformat_minor": 5
}